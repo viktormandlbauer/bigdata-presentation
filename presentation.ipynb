{
 "cells": [
  {
   "cell_type": "code",
   "execution_count": null,
   "id": "57aac6d9",
   "metadata": {},
   "outputs": [],
   "source": [
    "from kafka import KafkaProducer\n",
    "import json\n",
    "\n",
    "# Kafka broker address\n",
    "KAFKA_BROKER = '172.29.16.101:9092'\n",
    "TOPIC_NAME = 'test-topic'\n",
    "\n",
    "# Initialize Kafka producer\n",
    "producer = KafkaProducer(\n",
    "    bootstrap_servers=KAFKA_BROKER,\n",
    "    value_serializer=lambda v: json.dumps(v).encode('utf-8')\n",
    ")\n",
    "\n",
    "# Sample message\n",
    "message = {'source': 'jupyter-producer', 'value': 123}\n",
    "\n",
    "# Send message\n",
    "producer.send(TOPIC_NAME, value=message)\n",
    "producer.flush()\n",
    "\n",
    "print(f\"Sent message to topic '{TOPIC_NAME}': {message}\")"
   ]
  }
 ],
 "metadata": {
  "language_info": {
   "name": "python"
  }
 },
 "nbformat": 4,
 "nbformat_minor": 5
}
